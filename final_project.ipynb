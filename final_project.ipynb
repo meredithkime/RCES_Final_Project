{
 "cells": [
  {
   "cell_type": "markdown",
   "id": "70820ebc-afc9-482b-9d2f-d03c9b33f9d0",
   "metadata": {},
   "source": [
    "# RCES Final Project"
   ]
  },
  {
   "cell_type": "code",
   "execution_count": 2,
   "id": "bec127f5-2e2b-45ca-a571-f20df3a501b0",
   "metadata": {},
   "outputs": [
    {
     "ename": "SyntaxError",
     "evalue": "invalid syntax (3497253060.py, line 1)",
     "output_type": "error",
     "traceback": [
      "\u001b[0;36m  Cell \u001b[0;32mIn [2], line 1\u001b[0;36m\u001b[0m\n\u001b[0;31m    [![Binder](https://mybinder.org/badge_logo.svg)](https://mybinder.org/v2/gh/meredithkime/RCES_Final_Project/HEAD?labpath=final_project.ipynb)\u001b[0m\n\u001b[0m     ^\u001b[0m\n\u001b[0;31mSyntaxError\u001b[0m\u001b[0;31m:\u001b[0m invalid syntax\n"
     ]
    }
   ],
   "source": [
    "[![Binder](https://mybinder.org/badge_logo.svg)](https://mybinder.org/v2/gh/meredithkime/RCES_Final_Project/HEAD?labpath=final_project.ipynb)"
   ]
  },
  {
   "cell_type": "code",
   "execution_count": null,
   "id": "8e7ccf01-1421-4ac8-a792-ad027de74387",
   "metadata": {},
   "outputs": [],
   "source": []
  }
 ],
 "metadata": {
  "kernelspec": {
   "display_name": "Python 3 (ipykernel)",
   "language": "python",
   "name": "python3"
  },
  "language_info": {
   "codemirror_mode": {
    "name": "ipython",
    "version": 3
   },
   "file_extension": ".py",
   "mimetype": "text/x-python",
   "name": "python",
   "nbconvert_exporter": "python",
   "pygments_lexer": "ipython3",
   "version": "3.9.13"
  }
 },
 "nbformat": 4,
 "nbformat_minor": 5
}
